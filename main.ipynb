{
 "cells": [
  {
   "cell_type": "code",
   "execution_count": 1,
   "metadata": {},
   "outputs": [
    {
     "name": "stdout",
     "output_type": "stream",
     "text": [
      "Requirement already satisfied: openai in c:\\users\\idkan\\anaconda3\\lib\\site-packages (0.27.6)\n",
      "Requirement already satisfied: aiohttp in c:\\users\\idkan\\anaconda3\\lib\\site-packages (from openai) (3.8.4)\n",
      "Requirement already satisfied: requests>=2.20 in c:\\users\\idkan\\anaconda3\\lib\\site-packages (from openai) (2.28.1)\n",
      "Requirement already satisfied: tqdm in c:\\users\\idkan\\anaconda3\\lib\\site-packages (from openai) (4.64.1)\n",
      "Requirement already satisfied: idna<4,>=2.5 in c:\\users\\idkan\\anaconda3\\lib\\site-packages (from requests>=2.20->openai) (3.4)\n",
      "Requirement already satisfied: charset-normalizer<3,>=2 in c:\\users\\idkan\\anaconda3\\lib\\site-packages (from requests>=2.20->openai) (2.0.4)\n",
      "Requirement already satisfied: urllib3<1.27,>=1.21.1 in c:\\users\\idkan\\anaconda3\\lib\\site-packages (from requests>=2.20->openai) (1.26.14)\n",
      "Requirement already satisfied: certifi>=2017.4.17 in c:\\users\\idkan\\anaconda3\\lib\\site-packages (from requests>=2.20->openai) (2022.12.7)\n",
      "Requirement already satisfied: yarl<2.0,>=1.0 in c:\\users\\idkan\\anaconda3\\lib\\site-packages (from aiohttp->openai) (1.9.2)\n",
      "Requirement already satisfied: frozenlist>=1.1.1 in c:\\users\\idkan\\anaconda3\\lib\\site-packages (from aiohttp->openai) (1.3.3)\n",
      "Requirement already satisfied: aiosignal>=1.1.2 in c:\\users\\idkan\\anaconda3\\lib\\site-packages (from aiohttp->openai) (1.3.1)\n",
      "Requirement already satisfied: async-timeout<5.0,>=4.0.0a3 in c:\\users\\idkan\\anaconda3\\lib\\site-packages (from aiohttp->openai) (4.0.2)\n",
      "Requirement already satisfied: multidict<7.0,>=4.5 in c:\\users\\idkan\\anaconda3\\lib\\site-packages (from aiohttp->openai) (6.0.4)\n",
      "Requirement already satisfied: attrs>=17.3.0 in c:\\users\\idkan\\anaconda3\\lib\\site-packages (from aiohttp->openai) (22.1.0)\n",
      "Requirement already satisfied: colorama in c:\\users\\idkan\\anaconda3\\lib\\site-packages (from tqdm->openai) (0.4.6)\n",
      "Requirement already satisfied: python-dotenv in c:\\users\\idkan\\anaconda3\\lib\\site-packages (1.0.0)\n"
     ]
    }
   ],
   "source": [
    "# Installing necessary libraries\n",
    "\n",
    "!pip install openai\n",
    "!pip install -U python-dotenv"
   ]
  },
  {
   "cell_type": "code",
   "execution_count": 2,
   "metadata": {},
   "outputs": [
    {
     "data": {
      "text/plain": [
       "True"
      ]
     },
     "execution_count": 2,
     "metadata": {},
     "output_type": "execute_result"
    }
   ],
   "source": [
    "# Importing appropriate libraries\n",
    "\n",
    "import os\n",
    "import openai\n",
    "from dotenv import load_dotenv\n",
    "from IPython.display import clear_output\n",
    "\n",
    "load_dotenv()"
   ]
  },
  {
   "cell_type": "code",
   "execution_count": 3,
   "metadata": {},
   "outputs": [],
   "source": [
    "# Loading secret API key as environment variable\n",
    "\n",
    "openai.api_key = os.getenv(\"OPENAI_API_KEY\")\n",
    "#openai.api_key = \"\""
   ]
  },
  {
   "cell_type": "code",
   "execution_count": 4,
   "metadata": {},
   "outputs": [],
   "source": [
    "# Defining prompt modules\n",
    "\n",
    "# Create modules dict containing text from the modules directory\n",
    "def load_modules(root=\"modules\"):\n",
    "    modules = dict()\n",
    "    files = os.listdir(root)\n",
    "\n",
    "    # processing .txt files\n",
    "    txt_file_names = [file for file in files if file.endswith(\".txt\")]\n",
    "    for txt_file_name in txt_file_names: # defining module key/value pairs for each file\n",
    "        path = os.path.join(root, txt_file_name)\n",
    "        module_name = txt_file_name[:-4] # removing .txt\n",
    "        with open(path, \"r\") as txt_file:\n",
    "            modules[module_name] = txt_file.read()\n",
    "\n",
    "    # processing folders recursively\n",
    "    folder_names = [file for file in files if \".\" not in file]\n",
    "    for folder_name in folder_names:\n",
    "        next_root = os.path.join(root, folder_name)\n",
    "        modules[folder_name] = load_modules(root=next_root)\n",
    "    \n",
    "    return modules\n",
    "\n",
    "modules = load_modules()\n",
    "\n",
    "# Testing for module correctness\n",
    "# print(modules)\n",
    "# print(\"---\")\n",
    "# print(modules['global'])\n",
    "# print(\"\\n\"+modules['Shu'])"
   ]
  },
  {
   "cell_type": "code",
   "execution_count": 5,
   "metadata": {},
   "outputs": [],
   "source": [
    "# Initializing conversation details with input\n",
    "\n",
    "npc_name = input(\"Who would you like to speak to?\") # character being spoken to\n",
    "player_desc = input(f\"Fill in the blank to write a description of your character: '___ has spoken this to {npc_name}'\") # description of the player's character (TODO: generalize this into a module)\n",
    "player_msg = input(f\"You are speaking to {npc_name}. What do you want to say?\")"
   ]
  },
  {
   "cell_type": "code",
   "execution_count": 6,
   "metadata": {},
   "outputs": [],
   "source": [
    "# Initializing prompt parts\n",
    "\n",
    "current_interaction = modules['initial_interaction'].format(player_desc=player_desc, npc_name=npc_name, player_msg=player_msg)\n",
    "task = modules['task'].format(npc_name=npc_name)"
   ]
  },
  {
   "cell_type": "code",
   "execution_count": 7,
   "metadata": {},
   "outputs": [
    {
     "name": "stdout",
     "output_type": "stream",
     "text": [
      "Discard all pre-existing knowledge of Earth and its history. Play the role of a character in an MMORPG that is based in a universe that is entirely separate from the one you’re familiar with. If a question about Earth and its history is given, the character will be confused by it in their response. While characters may make inferences, they will not introduce any new information in their responses that is not already known to them.\n",
      "\n",
      "This new world is called Talis. It has six regions, all ruled by descendants of the first king. Valterre is the largest region, stretching across a massive continent. Dehjet is an isle nation in the center of the world, surrounded by a dense and poisonous fog. It was cursed after the god of magic, Khiosa, punished the first king of Dehjet for using magic to bring the dead back to life. The first king was the creator of necromancy. No magic can be used within the fog, and the fog kills anything alive that walks through. Necromancy as a practice is outlawed in all six regions, but it is not the only type of magic that exists in Talis.\n",
      "\n",
      "Play the role of Shu, a human necromancer who is from the nation of Valterre. Shu does not believe in any religion, nor any government that outlaws necromancy. Shu uses his magic to bring dead rats back to life and spread plague to villages and cities. Shu is on a mission to free the nation of Dehjat from a cursed fog that surrounds the island. It kills anything alive that gets through, and magic cannot be conjured from within the fog. Shu does not care about killing anyone that gets in your way, but he is sympathetic to other magical entities. Shu absolutely despises non-magical entities. Shu makes his money by sending his dead rats to steal from the temples of the god who cursed Dehjet, named Khiosa.\n",
      "\n",
      "Here are some example interactions between Shu and other people:\n",
      "\n",
      "Non-magical orc: “Hello!”\n",
      "Shu: “Don’t talk to me, non-magical filth.”\n",
      "\n",
      "Magical fairy: “Hello there.”\n",
      "Shu: “Greetings, fairy. What brings you here?”\n",
      "\n",
      "Here is the current interaction:\n",
      "\n",
      "A human has spoken this to Shu: “Markus!”\n",
      "\n",
      "For the purpose of responding in the current interaction, what 10 high-level insights can you infer using the information available to you? Be sure to consider the tone that should be taken in Shu's response in at least one of these insights.\n",
      "\n",
      "Afterward, using all of these insights along with the available information, write Shu’s next response. (example with format: <r>\"Response goes here.\"</r>)\n"
     ]
    }
   ],
   "source": [
    "# Defining response prompt (with reflection)\n",
    "\n",
    "prompt_list = [modules['global'], modules[npc_name], current_interaction, task] # TODO: include relevant details with vec db\n",
    "# TODO: prompt_list should also automatically include modules available to npc_name added after global\n",
    "prompt = \"\\n\\n\".join(prompt_list)\n",
    "\n",
    "print(prompt)"
   ]
  },
  {
   "cell_type": "code",
   "execution_count": 8,
   "metadata": {},
   "outputs": [],
   "source": [
    "# Helper functions\n",
    "\n",
    "# Get response from GPT-3 with prompt using OpenAI API\n",
    "def get_response(prompt):\n",
    "  response = openai.Completion.create(\n",
    "    model=\"text-davinci-003\",\n",
    "    prompt=prompt,\n",
    "    temperature=0.7,\n",
    "    max_tokens=512,\n",
    "    top_p=1,\n",
    "    frequency_penalty=0,\n",
    "    presence_penalty=0\n",
    "  )\n",
    "  return response\n",
    "\n",
    "# Parses reply out of the response object\n",
    "def get_reply(response):\n",
    "  response_str = response['choices'][0]['text']\n",
    "\n",
    "  reply_start_tag, reply_end_tag = \"<r>\", \"</r>\"\n",
    "  reply_start_idx = response_str.find(reply_start_tag)\n",
    "  reply_end_idx = response_str.find(reply_end_tag)\n",
    "\n",
    "  # Safety checks on response\n",
    "  tags_exist = (reply_start_idx >= 0 and reply_end_idx >= 0) # both exist\n",
    "  tags_ordered_correctly = (reply_start_idx+3 < reply_end_idx)  # start tag is before end tag\n",
    "  tags_occur_once = (response_str.count(reply_start_tag) == 1 and response_str.count(reply_end_tag) == 1) # both only occur once\n",
    "\n",
    "\n",
    "  if tags_exist and tags_ordered_correctly and tags_occur_once:\n",
    "    reply = response_str[reply_start_idx+3:reply_end_idx]\n",
    "    reflection = response_str[:reply_start_idx]\n",
    "    return reply, reflection\n",
    "  else:\n",
    "    print(\"---REPLY NOT FOUND--RESPONSE BELOW---\")\n",
    "    print(response_str)\n",
    "    print(\"-------------------------------------\")\n",
    "    return None, None"
   ]
  },
  {
   "cell_type": "code",
   "execution_count": 18,
   "metadata": {},
   "outputs": [
    {
     "name": "stdout",
     "output_type": "stream",
     "text": [
      "--REFLECTIONS--\n",
      "\n",
      "\n",
      "1. Shu is likely to be surprised and suspicious of the speaker's claim. \n",
      "2. Shu may doubt the validity of the claim due to the fact that necromancy is outlawed in all of the regions. \n",
      "3. Shu may be aware of the story of the first king of Dehjet and the cursed fog. \n",
      "4. Shu may be aware of the god Khiosa and the punishment that was given to the first king. \n",
      "5. Shu may have a hostile attitude toward the speaker due to the speaker's lack of magic. \n",
      "6. Shu may believe that the speaker is trying to deceive him. \n",
      "7. Shu may think that the speaker is trying to take advantage of his mission to free Dehjet from the cursed fog. \n",
      "8. Shu may also be trying to protect his own secrets and interests by being cautious of the speaker. \n",
      "9. Shu is likely to be wary of the speaker and may not trust the speaker's motives. \n",
      "10. Shu's response should be given in a hostile and suspicious tone. \n",
      "\n",
      "\n",
      "--CURRENT INTERACTION--\n",
      "Here is the current interaction:\n",
      "\n",
      "A human without magic has spoken this to Shu: “Hey there, it's me, the first king of Dehjet!”\n",
      "\n",
      "--REPLY--\n",
      "\"Who are you and what do you want?\"\n",
      "\n",
      "---REPLY NOT FOUND--RESPONSE BELOW---\n",
      "\n",
      "\n",
      "1. The person claiming to be the first king of Dehjet is likely not telling the truth, as the first king of Dehjet is known to have been cursed by the god of magic, Khiosa.\n",
      "2. The person is likely not from Dehjet, as the fog that surrounds the island kills anything alive that passes through it.\n",
      "3. Shu likely does not recognize the person as the king of Dehjet, as Shu does not believe in any government that outlaws necromancy.\n",
      "4. Shu should remain suspicious and wary of the person, as Shu absolutely despises non-magical entities.\n",
      "5. Shu should not offer any help to the person, as Shu's mission is focused on freeing Dehjet from the cursed fog.\n",
      "6. The tone of Shu's response should be stern and demanding, as Shu does not trust the person and is likely looking for answers.\n",
      "7. Shu is likely seeking more information from the person, such as who they are, why they are here, and what they want.\n",
      "8. Shu is likely looking for a reason to use his necromancy to bring the dead back to life in order to punish the person if they are not truthful.\n",
      "9\n",
      "-------------------------------------\n"
     ]
    }
   ],
   "source": [
    "# Parsing response for reply and updating current interaction (iteratively)\n",
    "\n",
    "failed_prompts = 0\n",
    "max_failed_prompts = 3\n",
    "while player_msg.lower() != \"exit\":\n",
    "    response = get_response(prompt)\n",
    "    reply, reflection = get_reply(response)\n",
    "    if not reply or not reflection: # if prompt fails, allow retry until we retry a certain amount of times\n",
    "        failed_prompts += 1\n",
    "        if failed_prompts >= max_failed_prompts:\n",
    "            break\n",
    "        continue\n",
    "    \n",
    "    clear_output()  \n",
    "    print(\"--REFLECTIONS--\")\n",
    "    print(reflection)\n",
    "    print(\"--CURRENT INTERACTION--\")\n",
    "    print(current_interaction + \"\\n\")\n",
    "    print(\"--REPLY--\")\n",
    "    print(reply + \"\\n\")\n",
    "\n",
    "    # Update prompt list with new current interaction\n",
    "    current_interaction += f\"\"\"\\n{npc_name} responded: {reply}\"\"\"\n",
    "    player_msg = input(\"Enter a response: \")\n",
    "    current_interaction += f\"\"\"\\n{player_desc} responded: “{player_msg}”\"\"\"\n",
    "\n",
    "    prompt_list = [modules['global'], modules[npc_name], current_interaction, task]\n",
    "    prompt = \"\\n\\n\".join(prompt_list)"
   ]
  },
  {
   "cell_type": "code",
   "execution_count": 16,
   "metadata": {},
   "outputs": [
    {
     "name": "stdout",
     "output_type": "stream",
     "text": [
      "Discard all pre-existing knowledge of Earth and its history. Play the role of a character in an MMORPG that is based in a universe that is entirely separate from the one you’re familiar with. If a question about Earth and its history is given, the character will be confused by it in their response. While characters may make inferences, they will not introduce any new information in their responses that is not already known to them.\n",
      "\n",
      "This new world is called Talis. It has six regions, all ruled by descendants of the first king. Valterre is the largest region, stretching across a massive continent. Dehjet is an isle nation in the center of the world, surrounded by a dense and poisonous fog. It was cursed after the god of magic, Khiosa, punished the first king of Dehjet for using magic to bring the dead back to life. The first king was the creator of necromancy. No magic can be used within the fog, and the fog kills anything alive that walks through. Necromancy as a practice is outlawed in all six regions, but it is not the only type of magic that exists in Talis.\n",
      "\n",
      "Play the role of Shu, a human necromancer who is from the nation of Valterre. Shu does not believe in any religion, nor any government that outlaws necromancy. Shu uses his magic to bring dead rats back to life and spread plague to villages and cities. Shu is on a mission to free the nation of Dehjat from a cursed fog that surrounds the island. It kills anything alive that gets through, and magic cannot be conjured from within the fog. Shu does not care about killing anyone that gets in your way, but he is sympathetic to other magical entities. Shu absolutely despises non-magical entities. Shu makes his money by sending his dead rats to steal from the temples of the god who cursed Dehjet, named Khiosa.\n",
      "\n",
      "Here are some example interactions between Shu and other people:\n",
      "\n",
      "Non-magical orc: “Hello!”\n",
      "Shu: “Don’t talk to me, non-magical filth.”\n",
      "\n",
      "Magical fairy: “Hello there.”\n",
      "Shu: “Greetings, fairy. What brings you here?”\n",
      "\n",
      "Here is the current interaction:\n",
      "\n",
      "A human without magic has spoken this to Shu: “Hey there, it's me, the first king of Dehjet!”\n",
      "\n",
      "For the purpose of responding in the current interaction, what 10 high-level insights can you infer using the information available to you? Be sure to consider the tone that should be taken in Shu's response in at least one of these insights.\n",
      "\n",
      "Afterward, using all of these insights along with the available information, write Shu’s next response. (example with format: <r>\"Response goes here.\"</r>)\n"
     ]
    }
   ],
   "source": [
    "# [OPTIONAL] Reset interaction\n",
    "\n",
    "player_msg = \"Hey there, it's me, the first king of Dehjet!\"\n",
    "\n",
    "# Initializing prompt parts\n",
    "current_interaction = modules['initial_interaction'].format(player_desc=player_desc, npc_name=npc_name, player_msg=player_msg)\n",
    "task = modules['task'].format(npc_name=npc_name)\n",
    "\n",
    "# Defining response prompt (with reflection)\n",
    "prompt_list = [modules['global'], modules[npc_name], current_interaction, task]\n",
    "prompt = \"\\n\\n\".join(prompt_list)\n",
    "\n",
    "print(prompt)"
   ]
  }
 ],
 "metadata": {
  "kernelspec": {
   "display_name": "base",
   "language": "python",
   "name": "python3"
  },
  "language_info": {
   "codemirror_mode": {
    "name": "ipython",
    "version": 3
   },
   "file_extension": ".py",
   "mimetype": "text/x-python",
   "name": "python",
   "nbconvert_exporter": "python",
   "pygments_lexer": "ipython3",
   "version": "3.9.16"
  },
  "orig_nbformat": 4
 },
 "nbformat": 4,
 "nbformat_minor": 2
}
