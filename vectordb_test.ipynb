{
 "cells": [
  {
   "cell_type": "code",
   "execution_count": 9,
   "metadata": {},
   "outputs": [
    {
     "name": "stdout",
     "output_type": "stream",
     "text": [
      "Requirement already satisfied: pinecone-client in c:\\users\\maanas\\appdata\\local\\programs\\python\\python311\\lib\\site-packages (2.2.1)\n",
      "Requirement already satisfied: requests>=2.19.0 in c:\\users\\maanas\\appdata\\local\\programs\\python\\python311\\lib\\site-packages (from pinecone-client) (2.30.0)\n",
      "Requirement already satisfied: pyyaml>=5.4 in c:\\users\\maanas\\appdata\\local\\programs\\python\\python311\\lib\\site-packages (from pinecone-client) (6.0)\n",
      "Requirement already satisfied: loguru>=0.5.0 in c:\\users\\maanas\\appdata\\local\\programs\\python\\python311\\lib\\site-packages (from pinecone-client) (0.7.0)\n",
      "Requirement already satisfied: typing-extensions>=3.7.4 in c:\\users\\maanas\\appdata\\local\\programs\\python\\python311\\lib\\site-packages (from pinecone-client) (4.5.0)\n",
      "Requirement already satisfied: dnspython>=2.0.0 in c:\\users\\maanas\\appdata\\local\\programs\\python\\python311\\lib\\site-packages (from pinecone-client) (2.3.0)\n",
      "Requirement already satisfied: python-dateutil>=2.5.3 in c:\\users\\maanas\\appdata\\roaming\\python\\python311\\site-packages (from pinecone-client) (2.8.2)\n",
      "Requirement already satisfied: urllib3>=1.21.1 in c:\\users\\maanas\\appdata\\local\\programs\\python\\python311\\lib\\site-packages (from pinecone-client) (2.0.2)\n",
      "Requirement already satisfied: tqdm>=4.64.1 in c:\\users\\maanas\\appdata\\local\\programs\\python\\python311\\lib\\site-packages (from pinecone-client) (4.65.0)\n",
      "Requirement already satisfied: numpy in c:\\users\\maanas\\appdata\\local\\programs\\python\\python311\\lib\\site-packages (from pinecone-client) (1.24.3)\n",
      "Requirement already satisfied: colorama>=0.3.4 in c:\\users\\maanas\\appdata\\roaming\\python\\python311\\site-packages (from loguru>=0.5.0->pinecone-client) (0.4.6)\n",
      "Requirement already satisfied: win32-setctime>=1.0.0 in c:\\users\\maanas\\appdata\\local\\programs\\python\\python311\\lib\\site-packages (from loguru>=0.5.0->pinecone-client) (1.1.0)\n",
      "Requirement already satisfied: six>=1.5 in c:\\users\\maanas\\appdata\\roaming\\python\\python311\\site-packages (from python-dateutil>=2.5.3->pinecone-client) (1.16.0)\n",
      "Requirement already satisfied: charset-normalizer<4,>=2 in c:\\users\\maanas\\appdata\\local\\programs\\python\\python311\\lib\\site-packages (from requests>=2.19.0->pinecone-client) (3.1.0)\n",
      "Requirement already satisfied: idna<4,>=2.5 in c:\\users\\maanas\\appdata\\local\\programs\\python\\python311\\lib\\site-packages (from requests>=2.19.0->pinecone-client) (3.4)\n",
      "Requirement already satisfied: certifi>=2017.4.17 in c:\\users\\maanas\\appdata\\local\\programs\\python\\python311\\lib\\site-packages (from requests>=2.19.0->pinecone-client) (2023.5.7)\n"
     ]
    },
    {
     "name": "stderr",
     "output_type": "stream",
     "text": [
      "\n",
      "[notice] A new release of pip available: 22.3.1 -> 23.1.2\n",
      "[notice] To update, run: python.exe -m pip install --upgrade pip\n"
     ]
    },
    {
     "name": "stdout",
     "output_type": "stream",
     "text": [
      "Requirement already satisfied: python-dotenv in c:\\users\\maanas\\appdata\\local\\programs\\python\\python311\\lib\\site-packages (1.0.0)\n"
     ]
    },
    {
     "name": "stderr",
     "output_type": "stream",
     "text": [
      "\n",
      "[notice] A new release of pip available: 22.3.1 -> 23.1.2\n",
      "[notice] To update, run: python.exe -m pip install --upgrade pip\n"
     ]
    }
   ],
   "source": [
    "\n",
    "# installing the required module(s)\n",
    "\n",
    "!pip3 install pinecone-client\n",
    "!pip3 install -U python-dotenv"
   ]
  },
  {
   "attachments": {},
   "cell_type": "markdown",
   "metadata": {},
   "source": [
    "Initializing pinecone with the api key and environment."
   ]
  },
  {
   "cell_type": "code",
   "execution_count": 10,
   "metadata": {},
   "outputs": [],
   "source": [
    "# importing required libraries\n",
    "\n",
    "import pinecone\n",
    "import os\n",
    "from dotenv import load_dotenv\n",
    "\n",
    "load_dotenv()\n",
    "\n",
    "# initializing pinecone\n",
    "pinecone.init(api_key=os.getenv(\"PINECONE_API_KEY\"), environment=\"asia-southeast1-gcp-free\")"
   ]
  },
  {
   "attachments": {},
   "cell_type": "markdown",
   "metadata": {},
   "source": [
    "Adding an example index in the db"
   ]
  },
  {
   "cell_type": "code",
   "execution_count": 14,
   "metadata": {},
   "outputs": [
    {
     "data": {
      "text/plain": [
       "IndexDescription(name='example-index', metric='cosine', replicas=1, dimension=128.0, shards=1, pods=1, pod_type='p1', status={'ready': True, 'state': 'Ready'}, metadata_config=None, source_collection='')"
      ]
     },
     "execution_count": 14,
     "metadata": {},
     "output_type": "execute_result"
    }
   ],
   "source": [
    "# pinecone.create_index(\"example-index\", dimension=128, pods=1)\n",
    "# pinecone.describe_index(\"example-index\")"
   ]
  },
  {
   "attachments": {},
   "cell_type": "markdown",
   "metadata": {},
   "source": [
    "## Testing out the upserting and querying functions.\n",
    "\n",
    "Getting random samples from the population being numbers between 0 and 128.\n",
    "\n",
    "Upserting three to the example-index, and then querying with a fourth to see the output."
   ]
  },
  {
   "cell_type": "code",
   "execution_count": 21,
   "metadata": {},
   "outputs": [],
   "source": [
    "index = pinecone.Index(index_name=\"example-index\")\n",
    "\n",
    "# creating random vectors\n",
    "import random\n",
    "population = [x for x in range(128)]\n",
    "\n",
    "# adding three random vectors sampled from the population above\n",
    "for i in range(3):\n",
    "    random_sample = random.sample(population, k=128)\n",
    "    index.upsert([(str(i), random_sample)])"
   ]
  },
  {
   "cell_type": "code",
   "execution_count": null,
   "metadata": {},
   "outputs": [],
   "source": [
    "query_sample = random.sample(population, k=128)\n",
    "print(f\"Querying with the vector: {query_sample}\")\n",
    "\n",
    "index.query(\n",
    "    vector=query_sample,\n",
    "    top_k=2,\n",
    "    include_values=True\n",
    ")"
   ]
  },
  {
   "cell_type": "code",
   "execution_count": 49,
   "metadata": {},
   "outputs": [],
   "source": [
    "# deleting the example index\n",
    "pinecone.delete_index(\"example-index\")"
   ]
  },
  {
   "attachments": {},
   "cell_type": "markdown",
   "metadata": {},
   "source": [
    "## Testing out basic embeddings, upserting and querying embedded sentences"
   ]
  },
  {
   "cell_type": "code",
   "execution_count": 44,
   "metadata": {},
   "outputs": [
    {
     "name": "stdout",
     "output_type": "stream",
     "text": [
      "Requirement already satisfied: matplotlib in c:\\users\\maanas\\appdata\\local\\programs\\python\\python311\\lib\\site-packages (3.7.1)"
     ]
    },
    {
     "name": "stderr",
     "output_type": "stream",
     "text": [
      "\n",
      "[notice] A new release of pip available: 22.3.1 -> 23.1.2\n",
      "[notice] To update, run: python.exe -m pip install --upgrade pip\n"
     ]
    },
    {
     "name": "stdout",
     "output_type": "stream",
     "text": [
      "\n",
      "Requirement already satisfied: contourpy>=1.0.1 in c:\\users\\maanas\\appdata\\local\\programs\\python\\python311\\lib\\site-packages (from matplotlib) (1.0.7)\n",
      "Requirement already satisfied: cycler>=0.10 in c:\\users\\maanas\\appdata\\local\\programs\\python\\python311\\lib\\site-packages (from matplotlib) (0.11.0)\n",
      "Requirement already satisfied: fonttools>=4.22.0 in c:\\users\\maanas\\appdata\\local\\programs\\python\\python311\\lib\\site-packages (from matplotlib) (4.39.4)\n",
      "Requirement already satisfied: kiwisolver>=1.0.1 in c:\\users\\maanas\\appdata\\local\\programs\\python\\python311\\lib\\site-packages (from matplotlib) (1.4.4)\n",
      "Requirement already satisfied: numpy>=1.20 in c:\\users\\maanas\\appdata\\local\\programs\\python\\python311\\lib\\site-packages (from matplotlib) (1.24.3)\n",
      "Requirement already satisfied: packaging>=20.0 in c:\\users\\maanas\\appdata\\roaming\\python\\python311\\site-packages (from matplotlib) (23.1)\n",
      "Requirement already satisfied: pillow>=6.2.0 in c:\\users\\maanas\\appdata\\local\\programs\\python\\python311\\lib\\site-packages (from matplotlib) (9.5.0)\n",
      "Requirement already satisfied: pyparsing>=2.3.1 in c:\\users\\maanas\\appdata\\local\\programs\\python\\python311\\lib\\site-packages (from matplotlib) (3.0.9)\n",
      "Requirement already satisfied: python-dateutil>=2.7 in c:\\users\\maanas\\appdata\\roaming\\python\\python311\\site-packages (from matplotlib) (2.8.2)\n",
      "Requirement already satisfied: six>=1.5 in c:\\users\\maanas\\appdata\\roaming\\python\\python311\\site-packages (from python-dateutil>=2.7->matplotlib) (1.16.0)\n",
      "Requirement already satisfied: plotly in c:\\users\\maanas\\appdata\\local\\programs\\python\\python311\\lib\\site-packages (5.14.1)\n",
      "Requirement already satisfied: tenacity>=6.2.0 in c:\\users\\maanas\\appdata\\local\\programs\\python\\python311\\lib\\site-packages (from plotly) (8.2.2)\n",
      "Requirement already satisfied: packaging in c:\\users\\maanas\\appdata\\roaming\\python\\python311\\site-packages (from plotly) (23.1)\n"
     ]
    },
    {
     "name": "stderr",
     "output_type": "stream",
     "text": [
      "\n",
      "[notice] A new release of pip available: 22.3.1 -> 23.1.2\n",
      "[notice] To update, run: python.exe -m pip install --upgrade pip\n"
     ]
    },
    {
     "name": "stdout",
     "output_type": "stream",
     "text": [
      "Requirement already satisfied: scipy in c:\\users\\maanas\\appdata\\local\\programs\\python\\python311\\lib\\site-packages (1.10.1)\n",
      "Requirement already satisfied: numpy<1.27.0,>=1.19.5 in c:\\users\\maanas\\appdata\\local\\programs\\python\\python311\\lib\\site-packages (from scipy) (1.24.3)\n"
     ]
    },
    {
     "name": "stderr",
     "output_type": "stream",
     "text": [
      "\n",
      "[notice] A new release of pip available: 22.3.1 -> 23.1.2\n",
      "[notice] To update, run: python.exe -m pip install --upgrade pip\n"
     ]
    },
    {
     "name": "stdout",
     "output_type": "stream",
     "text": [
      "Collecting scikit-learn\n",
      "  Downloading scikit_learn-1.2.2-cp311-cp311-win_amd64.whl (8.3 MB)\n",
      "     ---------------------------------------- 8.3/8.3 MB 15.1 MB/s eta 0:00:00\n",
      "Requirement already satisfied: numpy>=1.17.3 in c:\\users\\maanas\\appdata\\local\\programs\\python\\python311\\lib\\site-packages (from scikit-learn) (1.24.3)\n",
      "Requirement already satisfied: scipy>=1.3.2 in c:\\users\\maanas\\appdata\\local\\programs\\python\\python311\\lib\\site-packages (from scikit-learn) (1.10.1)\n",
      "Collecting joblib>=1.1.1\n",
      "  Downloading joblib-1.2.0-py3-none-any.whl (297 kB)\n",
      "     ------------------------------------- 298.0/298.0 kB 19.2 MB/s eta 0:00:00\n",
      "Collecting threadpoolctl>=2.0.0\n",
      "  Using cached threadpoolctl-3.1.0-py3-none-any.whl (14 kB)\n",
      "Installing collected packages: threadpoolctl, joblib, scikit-learn\n",
      "Successfully installed joblib-1.2.0 scikit-learn-1.2.2 threadpoolctl-3.1.0\n"
     ]
    },
    {
     "name": "stderr",
     "output_type": "stream",
     "text": [
      "\n",
      "[notice] A new release of pip available: 22.3.1 -> 23.1.2\n",
      "[notice] To update, run: python.exe -m pip install --upgrade pip\n"
     ]
    }
   ],
   "source": [
    "# required modules for openai.embeddings_utils\n",
    "\n",
    "!pip3 install matplotlib\n",
    "!pip3 install plotly\n",
    "!pip3 install scipy\n",
    "!pip3 install scikit-learn"
   ]
  },
  {
   "cell_type": "code",
   "execution_count": 80,
   "metadata": {},
   "outputs": [
    {
     "data": {
      "text/plain": [
       "IndexDescription(name='sentences-index', metric='cosine', replicas=1, dimension=1536.0, shards=1, pods=1, pod_type='p1', status={'ready': True, 'state': 'Ready'}, metadata_config=None, source_collection='')"
      ]
     },
     "execution_count": 80,
     "metadata": {},
     "output_type": "execute_result"
    }
   ],
   "source": [
    "# initializations\n",
    "\n",
    "import openai\n",
    "import pandas as pd\n",
    "\n",
    "openai.api_key = os.getenv(\"OPENAI_API_KEY\")\n",
    "\n",
    "# creating the new index\n",
    "EMBEDDING_DIMENSIONS = 1536 # found on https://openai.com/blog/new-and-improved-embedding-model\n",
    "pinecone.create_index(\"sentences-index\", dimension=EMBEDDING_DIMENSIONS, pods=1)\n",
    "pinecone.describe_index(\"sentences-index\")\n"
   ]
  },
  {
   "attachments": {},
   "cell_type": "markdown",
   "metadata": {},
   "source": [
    "Adding sentences from a paragraph to the vector database."
   ]
  },
  {
   "cell_type": "code",
   "execution_count": 82,
   "metadata": {},
   "outputs": [],
   "source": [
    "\n",
    "import time\n",
    "\n",
    "paragraph = \"\"\"This new world is called Talis. \n",
    "It has six regions, all ruled by descendants of the first king. \n",
    "Valterre is the largest region, stretching across a massive continent. \n",
    "Dehjet is an isle nation in the center of the world, surrounded by a dense and poisonous fog. \n",
    "It was cursed after the god of magic, Khiosa, punished the first king of Dehjet for using magic to bring the dead back to life. \n",
    "The first king was the creator of necromancy. No magic can be used within the fog, and the fog kills anything alive that walks through.\n",
    "Necromancy as a practice is outlawed in all six regions, but it is not the only type of magic that exists in Talis. \"\"\"\n",
    "\n",
    "sentence_list = paragraph.split('\\n')\n",
    "index = pinecone.Index(index_name=\"sentences-index\")\n",
    "\n",
    "for i, sentence in enumerate(sentence_list):\n",
    "    embedding = openai.Embedding.create(input = [sentence], model='text-embedding-ada-002')['data'][0]['embedding']\n",
    "    index.upsert([(sentence, embedding)])\n",
    "\n",
    "    time.sleep(1)"
   ]
  },
  {
   "attachments": {},
   "cell_type": "markdown",
   "metadata": {},
   "source": [
    "Querying the vector database."
   ]
  },
  {
   "cell_type": "code",
   "execution_count": 88,
   "metadata": {},
   "outputs": [
    {
     "data": {
      "text/plain": [
       "'The first king was the creator of necromancy. No magic can be used within the fog, and the fog kills anything alive that walks through.'"
      ]
     },
     "execution_count": 88,
     "metadata": {},
     "output_type": "execute_result"
    }
   ],
   "source": [
    "user_sentence = \"Tell me about the fog around Dehjet\"\n",
    "embedding = openai.Embedding.create(input = [user_sentence], model='text-embedding-ada-002')['data'][0]['embedding']\n",
    "\n",
    "query_response = index.query(\n",
    "    vector=embedding,\n",
    "    top_k = 3,\n",
    "    include_values=True\n",
    ")\n",
    "\n",
    "query_response['matches'][-1]['id']"
   ]
  }
 ],
 "metadata": {
  "kernelspec": {
   "display_name": "Python 3",
   "language": "python",
   "name": "python3"
  },
  "language_info": {
   "codemirror_mode": {
    "name": "ipython",
    "version": 3
   },
   "file_extension": ".py",
   "mimetype": "text/x-python",
   "name": "python",
   "nbconvert_exporter": "python",
   "pygments_lexer": "ipython3",
   "version": "3.11.1"
  },
  "orig_nbformat": 4
 },
 "nbformat": 4,
 "nbformat_minor": 2
}
